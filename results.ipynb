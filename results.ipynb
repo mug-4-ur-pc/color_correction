{
 "cells": [
  {
   "cell_type": "markdown",
   "id": "9d87e0ee-728f-48f6-b225-14acda162ad7",
   "metadata": {
    "collapsed": false
   },
   "source": [
    "# Comparing implemented methods\n",
    "## Imports"
   ]
  },
  {
   "cell_type": "code",
   "execution_count": 84,
   "id": "dcb01faf-ff77-45c4-86e1-84735e1c2e91",
   "metadata": {
    "collapsed": false
   },
   "outputs": [],
   "source": [
    "import numpy as np\n",
    "import matplotlib.pyplot as plt\n",
    "from scipy.interpolate import make_interp_spline"
   ]
  },
  {
   "cell_type": "markdown",
   "id": "5ad5592e-2328-4634-a476-8e89b4d5b053",
   "metadata": {
    "collapsed": false
   },
   "source": [
    "## Loading [SFU's surface reflectance dataset](https://www2.cs.sfu.ca/~colour/data/colour_constancy_synthetic_test_data/)\n",
    "Sorry for magic numbers. We need equal ranges of data that's why we skip some fields\n",
    "sometimes."
   ]
  },
  {
   "cell_type": "code",
   "execution_count": 85,
   "id": "67bdd942-d4bd-43d5-8bb3-a6f752bd1ea9",
   "metadata": {
    "collapsed": false
   },
   "outputs": [
    {
     "data": {
      "text/plain": [
       "(1995, 161, 1)"
      ]
     },
     "execution_count": 85,
     "metadata": {},
     "output_type": "execute_result"
    }
   ],
   "source": [
    "sfu_spd = np.loadtxt(\"data/reflect_db.reflect\", dtype=np.float64).reshape([-1,101])[:, 5:86:]\n",
    "data_size = sfu_spd.shape[0]\n",
    "\n",
    "interp_wavelengths = np.arange(400, 721, 2)\n",
    "interpolator = make_interp_spline(interp_wavelengths[::2], sfu_spd, k=1, axis=1)\n",
    "sfu_spd = interpolator(interp_wavelengths).reshape(data_size, -1, 1)\n",
    "\n",
    "sfu_spd.shape"
   ]
  },
  {
   "cell_type": "markdown",
   "id": "3f949408-0619-4582-9181-96b9c1581e0b",
   "metadata": {
    "collapsed": false
   },
   "source": [
    "## Loading (Nikon D5100 spectral sensivity function)[https://github.com/butcherg/ssf-data/blob/master/Nikon/D5100/camspec/Nikon_D5100.csv]"
   ]
  },
  {
   "cell_type": "code",
   "execution_count": 86,
   "id": "d16d7a1f-5096-4343-aba5-8e56834918c5",
   "metadata": {
    "collapsed": false
   },
   "outputs": [
    {
     "data": {
      "text/plain": [
       "(161, 3)"
      ]
     },
     "execution_count": 86,
     "metadata": {},
     "output_type": "execute_result"
    }
   ],
   "source": [
    "nikon_ssf = np.loadtxt(\"data/Nikon_D5100.csv\", dtype=np.float64, delimiter=\",\", usecols=(1,2,3))\n",
    "\n",
    "interpolator = make_interp_spline(interp_wavelengths[::5], nikon_ssf, k=1, axis=0)\n",
    "nikon_ssf = interpolator(interp_wavelengths)\n",
    "\n",
    "nikon_ssf.shape"
   ]
  },
  {
   "cell_type": "markdown",
   "id": "d8ab930e-964d-46bd-8552-99155fe8fd4a",
   "metadata": {
    "collapsed": false
   },
   "source": [
    "## Loading (XYZ color matching function)[https://cie.co.at/datatable/cie-1931-colour-matching-functions-2-degree-observer]"
   ]
  },
  {
   "cell_type": "code",
   "execution_count": 87,
   "id": "772b7aff-2392-4300-ad72-8666ddc38c95",
   "metadata": {
    "collapsed": false
   },
   "outputs": [
    {
     "data": {
      "text/plain": [
       "(161, 3)"
      ]
     },
     "execution_count": 87,
     "metadata": {},
     "output_type": "execute_result"
    }
   ],
   "source": [
    "xyz_cmf = np.loadtxt(\"data/CIE_xyz_1931_2deg.csv\", dtype=np.float64, delimiter=\",\", usecols=(1,2,3))[40:361:2]\n",
    "xyz_cmf.shape"
   ]
  },
  {
   "cell_type": "markdown",
   "id": "2bbbec6f-a5c7-47c3-a096-007206355303",
   "metadata": {
    "collapsed": false
   },
   "source": [
    "## Loading [D65 spectral poower distribution](https://cie.co.at/datatable/cie-standard-illuminant-d65)"
   ]
  },
  {
   "cell_type": "code",
   "execution_count": 94,
   "id": "410d36f2-8cdc-40bf-b776-c6a8c3af7066",
   "metadata": {
    "collapsed": false
   },
   "outputs": [
    {
     "data": {
      "text/plain": [
       "(161, 1)"
      ]
     },
     "execution_count": 94,
     "metadata": {},
     "output_type": "execute_result"
    }
   ],
   "source": [
    "d65_spd = np.loadtxt(\"data/CIE_std_illum_D65.csv\", dtype=np.float64, delimiter=\",\", usecols=(1))[100:421:2].reshape(-1, 1)\n",
    "d65_spd.shape"
   ]
  },
  {
   "cell_type": "markdown",
   "id": "4cc0dc64-2f1a-46bd-9db2-80d3843fa3dd",
   "metadata": {
    "collapsed": false
   },
   "source": [
    "## Calculating RGB RAW and CIE XYZ coordinates"
   ]
  },
  {
   "cell_type": "code",
   "execution_count": 95,
   "id": "d5184e2e-5f38-4437-8360-24d4568b3aef",
   "metadata": {
    "collapsed": false
   },
   "outputs": [
    {
     "name": "stdout",
     "output_type": "stream",
     "text": [
      "(1995, 3) (1995, 3)\n"
     ]
    }
   ],
   "source": [
    "rgb = np.trapz(sfu_spd * nikon_ssf * d65_spd, dx=2, axis=1)\n",
    "xyz = np.trapz(sfu_spd * xyz_cmf * d65_spd, dx=2, axis=1)\n",
    "print(rgb.shape, xyz.shape)"
   ]
  },
  {
   "cell_type": "markdown",
   "id": "c22b763f-e8b8-49e8-9e28-dddb37618acc",
   "metadata": {
    "collapsed": false
   },
   "source": []
  }
 ],
 "metadata": {
  "kernelspec": {
   "argv": [
    "python",
    "-m",
    "ipykernel_launcher",
    "-f",
    "{connection_file}"
   ],
   "display_name": "Python 3 (ipykernel)",
   "env": null,
   "interrupt_mode": "signal",
   "language": "python",
   "metadata": {
    "debugger": true
   },
   "name": "python3"
  },
  "language_info": {
   "codemirror_mode": {
    "name": "ipython",
    "version": 3
   },
   "file_extension": ".py",
   "mimetype": "text/x-python",
   "name": "python",
   "nbconvert_exporter": "python",
   "pygments_lexer": "ipython3",
   "version": "3.11.6"
  },
  "name": "results.ipynb"
 },
 "nbformat": 4,
 "nbformat_minor": 5
}
