{
 "cells": [
  {
   "cell_type": "markdown",
   "id": "9d87e0ee-728f-48f6-b225-14acda162ad7",
   "metadata": {
    "collapsed": false,
    "jupyter": {
     "outputs_hidden": false
    }
   },
   "source": [
    "# Comparing implemented methods\n",
    "## Imports"
   ]
  },
  {
   "cell_type": "code",
   "execution_count": 1,
   "id": "dcb01faf-ff77-45c4-86e1-84735e1c2e91",
   "metadata": {
    "collapsed": false,
    "jupyter": {
     "outputs_hidden": false
    }
   },
   "outputs": [],
   "source": [
    "import numpy as np\n",
    "import pandas as pd\n",
    "import matplotlib.pyplot as plt\n",
    "from scipy.interpolate import make_interp_spline\n",
    "from sklearn.model_selection import KFold\n",
    "\n",
    "from color_correction.errors import CIELABDE, CIEDE2000\n",
    "from color_correction.regressions import LCC, PCC, RPCC\n",
    "from color_correction.nn import MLP, MLPExtendedTrain, MLPExposureInvariant"
   ]
  },
  {
   "cell_type": "markdown",
   "id": "5ad5592e-2328-4634-a476-8e89b4d5b053",
   "metadata": {
    "collapsed": false,
    "jupyter": {
     "outputs_hidden": false
    }
   },
   "source": [
    "## Loading [SFU's surface reflectance dataset](https://www2.cs.sfu.ca/~colour/data/colour_constancy_synthetic_test_data/)\n",
    "Sorry for magic numbers. We need equal ranges of data that's why we skip some fields\n",
    "sometimes."
   ]
  },
  {
   "cell_type": "code",
   "execution_count": 2,
   "id": "67bdd942-d4bd-43d5-8bb3-a6f752bd1ea9",
   "metadata": {
    "collapsed": false,
    "jupyter": {
     "outputs_hidden": false
    }
   },
   "outputs": [
    {
     "data": {
      "text/plain": [
       "(1995, 321, 1)"
      ]
     },
     "execution_count": 2,
     "metadata": {},
     "output_type": "execute_result"
    }
   ],
   "source": [
    "sfu_spd = np.loadtxt(\"data/reflect_db.reflect\", dtype=np.float64).reshape([-1,101])[:, 5:86:]\n",
    "data_size = sfu_spd.shape[0]\n",
    "\n",
    "interp_wavelengths = np.arange(400, 721)\n",
    "interpolator = make_interp_spline(interp_wavelengths[::4], sfu_spd, k=1, axis=1)\n",
    "sfu_spd = interpolator(interp_wavelengths).reshape(data_size, -1, 1)\n",
    "\n",
    "sfu_spd.shape"
   ]
  },
  {
   "cell_type": "markdown",
   "id": "3f949408-0619-4582-9181-96b9c1581e0b",
   "metadata": {
    "collapsed": false,
    "jupyter": {
     "outputs_hidden": false
    }
   },
   "source": [
    "## Loading [Nikon D5100 spectral sensivity function](https://github.com/butcherg/ssf-data/blob/master/Nikon/D5100/camspec/Nikon_D5100.csv)"
   ]
  },
  {
   "cell_type": "code",
   "execution_count": 3,
   "id": "d16d7a1f-5096-4343-aba5-8e56834918c5",
   "metadata": {
    "collapsed": false,
    "jupyter": {
     "outputs_hidden": false
    }
   },
   "outputs": [
    {
     "data": {
      "text/plain": [
       "(321, 3)"
      ]
     },
     "execution_count": 3,
     "metadata": {},
     "output_type": "execute_result"
    }
   ],
   "source": [
    "nikon_ssf = np.loadtxt(\"data/Nikon_D5100.csv\", dtype=np.float64, delimiter=\",\", usecols=(1,2,3))\n",
    "\n",
    "interpolator = make_interp_spline(interp_wavelengths[::10], nikon_ssf, k=1, axis=0)\n",
    "nikon_ssf = interpolator(interp_wavelengths)\n",
    "\n",
    "nikon_ssf.shape"
   ]
  },
  {
   "cell_type": "markdown",
   "id": "d8ab930e-964d-46bd-8552-99155fe8fd4a",
   "metadata": {
    "collapsed": false,
    "jupyter": {
     "outputs_hidden": false
    }
   },
   "source": [
    "## Loading [CIE XYZ color matching function](https://cie.co.at/datatable/cie-1931-colour-matching-functions-2-degree-observer)"
   ]
  },
  {
   "cell_type": "code",
   "execution_count": 4,
   "id": "772b7aff-2392-4300-ad72-8666ddc38c95",
   "metadata": {
    "collapsed": false,
    "jupyter": {
     "outputs_hidden": false
    }
   },
   "outputs": [
    {
     "data": {
      "text/plain": [
       "(321, 3)"
      ]
     },
     "execution_count": 4,
     "metadata": {},
     "output_type": "execute_result"
    }
   ],
   "source": [
    "xyz_cmf = np.loadtxt(\"data/CIE_xyz_1931_2deg.csv\", dtype=np.float64, delimiter=\",\", usecols=(1,2,3))[40:361]\n",
    "xyz_cmf.shape"
   ]
  },
  {
   "cell_type": "markdown",
   "id": "2bbbec6f-a5c7-47c3-a096-007206355303",
   "metadata": {
    "collapsed": false,
    "jupyter": {
     "outputs_hidden": false
    }
   },
   "source": [
    "## Loading [D65 spectral poower distribution](https://cie.co.at/datatable/cie-standard-illuminant-d65)"
   ]
  },
  {
   "cell_type": "code",
   "execution_count": 5,
   "id": "410d36f2-8cdc-40bf-b776-c6a8c3af7066",
   "metadata": {
    "collapsed": false,
    "jupyter": {
     "outputs_hidden": false
    }
   },
   "outputs": [
    {
     "data": {
      "text/plain": [
       "(321, 1)"
      ]
     },
     "execution_count": 5,
     "metadata": {},
     "output_type": "execute_result"
    }
   ],
   "source": [
    "d65_spd = np.loadtxt(\"data/CIE_std_illum_D65.csv\", dtype=np.float64, delimiter=\",\", usecols=(1))[100:421].reshape(-1, 1)\n",
    "d65_spd.shape"
   ]
  },
  {
   "cell_type": "markdown",
   "id": "4cc0dc64-2f1a-46bd-9db2-80d3843fa3dd",
   "metadata": {
    "collapsed": false,
    "jupyter": {
     "outputs_hidden": false
    }
   },
   "source": [
    "## Calculating RGB RAW and CIE XYZ coordinates"
   ]
  },
  {
   "cell_type": "code",
   "execution_count": 6,
   "id": "d5184e2e-5f38-4437-8360-24d4568b3aef",
   "metadata": {
    "collapsed": false,
    "jupyter": {
     "outputs_hidden": false
    }
   },
   "outputs": [
    {
     "name": "stdout",
     "output_type": "stream",
     "text": [
      "(1995, 3) (1995, 3)\n"
     ]
    }
   ],
   "source": [
    "rgb = np.trapz(sfu_spd * nikon_ssf * d65_spd, dx=1, axis=1)\n",
    "xyz = np.trapz(sfu_spd * xyz_cmf * d65_spd, dx=1, axis=1)\n",
    "print(rgb.shape, xyz.shape)"
   ]
  },
  {
   "cell_type": "markdown",
   "id": "07642ecb-d926-4669-a4ce-dce73e5176bf",
   "metadata": {
    "collapsed": false,
    "jupyter": {
     "outputs_hidden": false
    }
   },
   "source": [
    "## Calculating white point"
   ]
  },
  {
   "cell_type": "code",
   "execution_count": 7,
   "id": "16af4533-2007-4ffa-95ef-bacc3d3218d1",
   "metadata": {
    "collapsed": false,
    "jupyter": {
     "outputs_hidden": false
    }
   },
   "outputs": [
    {
     "data": {
      "text/plain": [
       "array([10033.22810699, 10565.8810844 , 11469.06421026])"
      ]
     },
     "execution_count": 7,
     "metadata": {},
     "output_type": "execute_result"
    }
   ],
   "source": [
    "white_point = np.trapz(xyz_cmf * d65_spd, dx=1, axis=0)\n",
    "white_point"
   ]
  },
  {
   "cell_type": "markdown",
   "id": "c22b763f-e8b8-49e8-9e28-dddb37618acc",
   "metadata": {
    "collapsed": false,
    "jupyter": {
     "outputs_hidden": false
    }
   },
   "source": [
    "## Performance on fixed exposure"
   ]
  },
  {
   "cell_type": "code",
   "execution_count": 8,
   "id": "559a8d47-1859-46d8-af77-923ce2244565",
   "metadata": {
    "collapsed": false,
    "jupyter": {
     "outputs_hidden": false
    }
   },
   "outputs": [],
   "source": [
    "methods = {\"linear\": LCC(),\n",
    "           \"poly 2 deg.\": PCC(degree=2, loss=\"mse\"),\n",
    "           \"root poly 2 deg.\": RPCC(degree=2, loss=\"mse\"),\n",
    "           \"poly opt. 2 deg.\": PCC(degree=2, loss=\"cielabde\"),\n",
    "           \"root poly opt. 2 deg.\": RPCC(degree=2, loss=\"cielabde\"),\n",
    "           \"nn\": MLP(),\n",
    "           \"nn aug.\": MLPExtendedTrain(batch_size=256),\n",
    "           \"nn el\": MLPExposureInvariant()}\n",
    "    \n",
    "exposures = [0.2, 0.5, 1, 2, 5]\n",
    "def exposure_test(rgb, xyz, white_point, model, exposure):\n",
    "    res = model.predict(rgb * exposure)\n",
    "    return CIELABDE(res, xyz * exposure, white_point * exposure)\n",
    "\n",
    "n_splits = 5\n",
    "error_statistics_cielab = np.zeros((len(methods), 4), dtype=np.float64)\n",
    "error_statistics_ciede2000 = np.zeros((len(methods), 4), dtype=np.float64)\n",
    "error_statistics_exps = np.zeros((len(methods), len(exposures)), dtype=np.float64)\n",
    "\n",
    "kf = KFold(n_splits=n_splits, random_state=0, shuffle=True)\n",
    "for train_index, test_index in kf.split(rgb):\n",
    "    rgb_train, rgb_test = rgb[train_index], rgb[test_index]\n",
    "    xyz_train, xyz_test = xyz[train_index], xyz[test_index]\n",
    "\n",
    "    batch_statistics_cielab = np.zeros_like(error_statistics_cielab)\n",
    "    batch_statistics_ciede2000 = np.zeros_like(error_statistics_ciede2000)\n",
    "    batch_statistics_exps = np.zeros_like(error_statistics_exps)\n",
    "    for j, model in enumerate(methods.values()):\n",
    "        model.fit(rgb_train, xyz_train, white_point)\n",
    "        errors_cielab = CIELABDE(model.predict(rgb_test), xyz_test, white_point)\n",
    "        errors_ciede2000 = CIEDE2000(model.predict(rgb_test), xyz_test, white_point)\n",
    "\n",
    "        batch_statistics_cielab[j] = np.array([np.mean(errors_cielab),\n",
    "                                               np.max(errors_cielab),\n",
    "                                               np.median(errors_cielab),\n",
    "                                               np.percentile(errors_cielab, 95)])\n",
    "        batch_statistics_ciede2000[j] = np.array([np.mean(errors_ciede2000),\n",
    "                                                  np.max(errors_ciede2000),\n",
    "                                                  np.median(errors_ciede2000),\n",
    "                                                  np.percentile(errors_ciede2000, 95)])\n",
    "\n",
    "        for k, exposure in enumerate(exposures):\n",
    "            errors_exps = exposure_test(rgb_test, xyz_test, white_point, model, exposure)\n",
    "            batch_statistics_exps[j][k] = np.mean(errors_exps)\n",
    "\n",
    "    error_statistics_cielab += batch_statistics_cielab\n",
    "    error_statistics_ciede2000 += batch_statistics_ciede2000\n",
    "    error_statistics_exps += batch_statistics_exps\n",
    "\n",
    "error_statistics_cielab /= n_splits\n",
    "error_statistics_ciede2000 /= n_splits\n",
    "error_statistics_exps /= n_splits\n",
    "    \n",
    "df_cielab = pd.DataFrame({\"Method\": methods.keys(),\n",
    "                          \"Mean\": error_statistics_cielab[:, 0],\n",
    "                          \"Max\": error_statistics_cielab[:, 1],\n",
    "                          \"Median\": error_statistics_cielab[:, 2],\n",
    "                          \"95%\": error_statistics_cielab[:, 3]}).style.hide()\n",
    "df_ciede2000 = pd.DataFrame({\"Method\": methods.keys(),\n",
    "                             \"Mean\": error_statistics_ciede2000[:, 0],\n",
    "                             \"Max\": error_statistics_ciede2000[:, 1],\n",
    "                             \"Median\": error_statistics_ciede2000[:, 2],\n",
    "                             \"95%\": error_statistics_ciede2000[:, 3]}).style.hide()\n",
    "df_exps = pd.DataFrame(columns=exposures,\n",
    "                       data=error_statistics_exps)\n",
    "df_exps.insert(0, \"Methods\", methods.keys())\n",
    "df_exps = df_exps.style.hide()"
   ]
  },
  {
   "cell_type": "markdown",
   "id": "63a0ee98-a7cb-4958-aa9c-c1dceaa02841",
   "metadata": {
    "collapsed": false,
    "jupyter": {
     "outputs_hidden": false
    }
   },
   "source": [
    "### CIELAB Delta E"
   ]
  },
  {
   "cell_type": "code",
   "execution_count": 9,
   "id": "d336fbdc-fb8d-464f-b6c5-c274eb0b63f6",
   "metadata": {
    "collapsed": false,
    "jupyter": {
     "outputs_hidden": false
    }
   },
   "outputs": [
    {
     "data": {
      "text/html": [
       "<style type=\"text/css\">\n",
       "</style>\n",
       "<table id=\"T_f733b\">\n",
       "  <thead>\n",
       "    <tr>\n",
       "      <th id=\"T_f733b_level0_col0\" class=\"col_heading level0 col0\" >Method</th>\n",
       "      <th id=\"T_f733b_level0_col1\" class=\"col_heading level0 col1\" >Mean</th>\n",
       "      <th id=\"T_f733b_level0_col2\" class=\"col_heading level0 col2\" >Max</th>\n",
       "      <th id=\"T_f733b_level0_col3\" class=\"col_heading level0 col3\" >Median</th>\n",
       "      <th id=\"T_f733b_level0_col4\" class=\"col_heading level0 col4\" >95%</th>\n",
       "    </tr>\n",
       "  </thead>\n",
       "  <tbody>\n",
       "    <tr>\n",
       "      <td id=\"T_f733b_row0_col0\" class=\"data row0 col0\" >linear</td>\n",
       "      <td id=\"T_f733b_row0_col1\" class=\"data row0 col1\" >1.589252</td>\n",
       "      <td id=\"T_f733b_row0_col2\" class=\"data row0 col2\" >17.758626</td>\n",
       "      <td id=\"T_f733b_row0_col3\" class=\"data row0 col3\" >0.889065</td>\n",
       "      <td id=\"T_f733b_row0_col4\" class=\"data row0 col4\" >5.043187</td>\n",
       "    </tr>\n",
       "    <tr>\n",
       "      <td id=\"T_f733b_row1_col0\" class=\"data row1 col0\" >poly 2 deg.</td>\n",
       "      <td id=\"T_f733b_row1_col1\" class=\"data row1 col1\" >1.263581</td>\n",
       "      <td id=\"T_f733b_row1_col2\" class=\"data row1 col2\" >13.124550</td>\n",
       "      <td id=\"T_f733b_row1_col3\" class=\"data row1 col3\" >0.753671</td>\n",
       "      <td id=\"T_f733b_row1_col4\" class=\"data row1 col4\" >3.683078</td>\n",
       "    </tr>\n",
       "    <tr>\n",
       "      <td id=\"T_f733b_row2_col0\" class=\"data row2 col0\" >root poly 2 deg.</td>\n",
       "      <td id=\"T_f733b_row2_col1\" class=\"data row2 col1\" >1.160634</td>\n",
       "      <td id=\"T_f733b_row2_col2\" class=\"data row2 col2\" >15.185094</td>\n",
       "      <td id=\"T_f733b_row2_col3\" class=\"data row2 col3\" >0.675933</td>\n",
       "      <td id=\"T_f733b_row2_col4\" class=\"data row2 col4\" >3.683861</td>\n",
       "    </tr>\n",
       "    <tr>\n",
       "      <td id=\"T_f733b_row3_col0\" class=\"data row3 col0\" >poly opt. 2 deg.</td>\n",
       "      <td id=\"T_f733b_row3_col1\" class=\"data row3 col1\" >1.144871</td>\n",
       "      <td id=\"T_f733b_row3_col2\" class=\"data row3 col2\" >7.285970</td>\n",
       "      <td id=\"T_f733b_row3_col3\" class=\"data row3 col3\" >0.766822</td>\n",
       "      <td id=\"T_f733b_row3_col4\" class=\"data row3 col4\" >3.400068</td>\n",
       "    </tr>\n",
       "    <tr>\n",
       "      <td id=\"T_f733b_row4_col0\" class=\"data row4 col0\" >root poly opt. 2 deg.</td>\n",
       "      <td id=\"T_f733b_row4_col1\" class=\"data row4 col1\" >1.086645</td>\n",
       "      <td id=\"T_f733b_row4_col2\" class=\"data row4 col2\" >7.137430</td>\n",
       "      <td id=\"T_f733b_row4_col3\" class=\"data row4 col3\" >0.687710</td>\n",
       "      <td id=\"T_f733b_row4_col4\" class=\"data row4 col4\" >3.396306</td>\n",
       "    </tr>\n",
       "    <tr>\n",
       "      <td id=\"T_f733b_row5_col0\" class=\"data row5 col0\" >nn</td>\n",
       "      <td id=\"T_f733b_row5_col1\" class=\"data row5 col1\" >1.089890</td>\n",
       "      <td id=\"T_f733b_row5_col2\" class=\"data row5 col2\" >11.127519</td>\n",
       "      <td id=\"T_f733b_row5_col3\" class=\"data row5 col3\" >0.692959</td>\n",
       "      <td id=\"T_f733b_row5_col4\" class=\"data row5 col4\" >3.323537</td>\n",
       "    </tr>\n",
       "    <tr>\n",
       "      <td id=\"T_f733b_row6_col0\" class=\"data row6 col0\" >nn aug.</td>\n",
       "      <td id=\"T_f733b_row6_col1\" class=\"data row6 col1\" >0.897829</td>\n",
       "      <td id=\"T_f733b_row6_col2\" class=\"data row6 col2\" >7.268493</td>\n",
       "      <td id=\"T_f733b_row6_col3\" class=\"data row6 col3\" >0.526111</td>\n",
       "      <td id=\"T_f733b_row6_col4\" class=\"data row6 col4\" >2.920193</td>\n",
       "    </tr>\n",
       "    <tr>\n",
       "      <td id=\"T_f733b_row7_col0\" class=\"data row7 col0\" >nn el</td>\n",
       "      <td id=\"T_f733b_row7_col1\" class=\"data row7 col1\" >1.446469</td>\n",
       "      <td id=\"T_f733b_row7_col2\" class=\"data row7 col2\" >13.740053</td>\n",
       "      <td id=\"T_f733b_row7_col3\" class=\"data row7 col3\" >0.893253</td>\n",
       "      <td id=\"T_f733b_row7_col4\" class=\"data row7 col4\" >4.553440</td>\n",
       "    </tr>\n",
       "  </tbody>\n",
       "</table>\n"
      ],
      "text/plain": [
       "<pandas.io.formats.style.Styler at 0x7901ec2a08d0>"
      ]
     },
     "execution_count": 9,
     "metadata": {},
     "output_type": "execute_result"
    }
   ],
   "source": [
    "df_cielab"
   ]
  },
  {
   "cell_type": "markdown",
   "id": "a86de9d4-4561-474b-92b7-f62d13968a3d",
   "metadata": {
    "collapsed": false,
    "jupyter": {
     "outputs_hidden": false
    }
   },
   "source": [
    "### CIE Delta E 2000"
   ]
  },
  {
   "cell_type": "code",
   "execution_count": 10,
   "id": "0007ac47-c962-4df1-953c-0fdb315b7345",
   "metadata": {
    "collapsed": false,
    "jupyter": {
     "outputs_hidden": false
    }
   },
   "outputs": [
    {
     "data": {
      "text/html": [
       "<style type=\"text/css\">\n",
       "</style>\n",
       "<table id=\"T_e1de4\">\n",
       "  <thead>\n",
       "    <tr>\n",
       "      <th id=\"T_e1de4_level0_col0\" class=\"col_heading level0 col0\" >Method</th>\n",
       "      <th id=\"T_e1de4_level0_col1\" class=\"col_heading level0 col1\" >Mean</th>\n",
       "      <th id=\"T_e1de4_level0_col2\" class=\"col_heading level0 col2\" >Max</th>\n",
       "      <th id=\"T_e1de4_level0_col3\" class=\"col_heading level0 col3\" >Median</th>\n",
       "      <th id=\"T_e1de4_level0_col4\" class=\"col_heading level0 col4\" >95%</th>\n",
       "    </tr>\n",
       "  </thead>\n",
       "  <tbody>\n",
       "    <tr>\n",
       "      <td id=\"T_e1de4_row0_col0\" class=\"data row0 col0\" >linear</td>\n",
       "      <td id=\"T_e1de4_row0_col1\" class=\"data row0 col1\" >0.905658</td>\n",
       "      <td id=\"T_e1de4_row0_col2\" class=\"data row0 col2\" >6.857275</td>\n",
       "      <td id=\"T_e1de4_row0_col3\" class=\"data row0 col3\" >0.651576</td>\n",
       "      <td id=\"T_e1de4_row0_col4\" class=\"data row0 col4\" >2.522678</td>\n",
       "    </tr>\n",
       "    <tr>\n",
       "      <td id=\"T_e1de4_row1_col0\" class=\"data row1 col0\" >poly 2 deg.</td>\n",
       "      <td id=\"T_e1de4_row1_col1\" class=\"data row1 col1\" >0.752311</td>\n",
       "      <td id=\"T_e1de4_row1_col2\" class=\"data row1 col2\" >4.148586</td>\n",
       "      <td id=\"T_e1de4_row1_col3\" class=\"data row1 col3\" >0.543090</td>\n",
       "      <td id=\"T_e1de4_row1_col4\" class=\"data row1 col4\" >2.092545</td>\n",
       "    </tr>\n",
       "    <tr>\n",
       "      <td id=\"T_e1de4_row2_col0\" class=\"data row2 col0\" >root poly 2 deg.</td>\n",
       "      <td id=\"T_e1de4_row2_col1\" class=\"data row2 col1\" >0.693781</td>\n",
       "      <td id=\"T_e1de4_row2_col2\" class=\"data row2 col2\" >6.433788</td>\n",
       "      <td id=\"T_e1de4_row2_col3\" class=\"data row2 col3\" >0.494083</td>\n",
       "      <td id=\"T_e1de4_row2_col4\" class=\"data row2 col4\" >2.031283</td>\n",
       "    </tr>\n",
       "    <tr>\n",
       "      <td id=\"T_e1de4_row3_col0\" class=\"data row3 col0\" >poly opt. 2 deg.</td>\n",
       "      <td id=\"T_e1de4_row3_col1\" class=\"data row3 col1\" >0.721213</td>\n",
       "      <td id=\"T_e1de4_row3_col2\" class=\"data row3 col2\" >3.618652</td>\n",
       "      <td id=\"T_e1de4_row3_col3\" class=\"data row3 col3\" >0.533472</td>\n",
       "      <td id=\"T_e1de4_row3_col4\" class=\"data row3 col4\" >1.907736</td>\n",
       "    </tr>\n",
       "    <tr>\n",
       "      <td id=\"T_e1de4_row4_col0\" class=\"data row4 col0\" >root poly opt. 2 deg.</td>\n",
       "      <td id=\"T_e1de4_row4_col1\" class=\"data row4 col1\" >0.660712</td>\n",
       "      <td id=\"T_e1de4_row4_col2\" class=\"data row4 col2\" >3.543607</td>\n",
       "      <td id=\"T_e1de4_row4_col3\" class=\"data row4 col3\" >0.487383</td>\n",
       "      <td id=\"T_e1de4_row4_col4\" class=\"data row4 col4\" >1.869125</td>\n",
       "    </tr>\n",
       "    <tr>\n",
       "      <td id=\"T_e1de4_row5_col0\" class=\"data row5 col0\" >nn</td>\n",
       "      <td id=\"T_e1de4_row5_col1\" class=\"data row5 col1\" >0.694290</td>\n",
       "      <td id=\"T_e1de4_row5_col2\" class=\"data row5 col2\" >3.854647</td>\n",
       "      <td id=\"T_e1de4_row5_col3\" class=\"data row5 col3\" >0.512192</td>\n",
       "      <td id=\"T_e1de4_row5_col4\" class=\"data row5 col4\" >1.809795</td>\n",
       "    </tr>\n",
       "    <tr>\n",
       "      <td id=\"T_e1de4_row6_col0\" class=\"data row6 col0\" >nn aug.</td>\n",
       "      <td id=\"T_e1de4_row6_col1\" class=\"data row6 col1\" >0.550765</td>\n",
       "      <td id=\"T_e1de4_row6_col2\" class=\"data row6 col2\" >3.374957</td>\n",
       "      <td id=\"T_e1de4_row6_col3\" class=\"data row6 col3\" >0.371317</td>\n",
       "      <td id=\"T_e1de4_row6_col4\" class=\"data row6 col4\" >1.542285</td>\n",
       "    </tr>\n",
       "    <tr>\n",
       "      <td id=\"T_e1de4_row7_col0\" class=\"data row7 col0\" >nn el</td>\n",
       "      <td id=\"T_e1de4_row7_col1\" class=\"data row7 col1\" >0.853429</td>\n",
       "      <td id=\"T_e1de4_row7_col2\" class=\"data row7 col2\" >4.237741</td>\n",
       "      <td id=\"T_e1de4_row7_col3\" class=\"data row7 col3\" >0.644838</td>\n",
       "      <td id=\"T_e1de4_row7_col4\" class=\"data row7 col4\" >2.274702</td>\n",
       "    </tr>\n",
       "  </tbody>\n",
       "</table>\n"
      ],
      "text/plain": [
       "<pandas.io.formats.style.Styler at 0x7901ec17a550>"
      ]
     },
     "execution_count": 10,
     "metadata": {},
     "output_type": "execute_result"
    }
   ],
   "source": [
    "df_ciede2000"
   ]
  },
  {
   "cell_type": "markdown",
   "id": "7bdf376e-d484-4da2-97a3-1680f58f5815",
   "metadata": {
    "collapsed": false,
    "jupyter": {
     "outputs_hidden": false
    }
   },
   "source": [
    "### Different exposures"
   ]
  },
  {
   "cell_type": "code",
   "execution_count": 11,
   "id": "7b6d280b-0d64-4b1b-8bbb-27443a484171",
   "metadata": {
    "collapsed": false,
    "jupyter": {
     "outputs_hidden": false
    }
   },
   "outputs": [
    {
     "data": {
      "text/html": [
       "<style type=\"text/css\">\n",
       "</style>\n",
       "<table id=\"T_d30a5\">\n",
       "  <thead>\n",
       "    <tr>\n",
       "      <th id=\"T_d30a5_level0_col0\" class=\"col_heading level0 col0\" >Methods</th>\n",
       "      <th id=\"T_d30a5_level0_col1\" class=\"col_heading level0 col1\" >0.200000</th>\n",
       "      <th id=\"T_d30a5_level0_col2\" class=\"col_heading level0 col2\" >0.500000</th>\n",
       "      <th id=\"T_d30a5_level0_col3\" class=\"col_heading level0 col3\" >1.000000</th>\n",
       "      <th id=\"T_d30a5_level0_col4\" class=\"col_heading level0 col4\" >2.000000</th>\n",
       "      <th id=\"T_d30a5_level0_col5\" class=\"col_heading level0 col5\" >5.000000</th>\n",
       "    </tr>\n",
       "  </thead>\n",
       "  <tbody>\n",
       "    <tr>\n",
       "      <td id=\"T_d30a5_row0_col0\" class=\"data row0 col0\" >linear</td>\n",
       "      <td id=\"T_d30a5_row0_col1\" class=\"data row0 col1\" >1.589252</td>\n",
       "      <td id=\"T_d30a5_row0_col2\" class=\"data row0 col2\" >1.589252</td>\n",
       "      <td id=\"T_d30a5_row0_col3\" class=\"data row0 col3\" >1.589252</td>\n",
       "      <td id=\"T_d30a5_row0_col4\" class=\"data row0 col4\" >1.589252</td>\n",
       "      <td id=\"T_d30a5_row0_col5\" class=\"data row0 col5\" >1.589252</td>\n",
       "    </tr>\n",
       "    <tr>\n",
       "      <td id=\"T_d30a5_row1_col0\" class=\"data row1 col0\" >poly 2 deg.</td>\n",
       "      <td id=\"T_d30a5_row1_col1\" class=\"data row1 col1\" >1.611825</td>\n",
       "      <td id=\"T_d30a5_row1_col2\" class=\"data row1 col2\" >1.425788</td>\n",
       "      <td id=\"T_d30a5_row1_col3\" class=\"data row1 col3\" >1.263581</td>\n",
       "      <td id=\"T_d30a5_row1_col4\" class=\"data row1 col4\" >1.841396</td>\n",
       "      <td id=\"T_d30a5_row1_col5\" class=\"data row1 col5\" >6.078506</td>\n",
       "    </tr>\n",
       "    <tr>\n",
       "      <td id=\"T_d30a5_row2_col0\" class=\"data row2 col0\" >root poly 2 deg.</td>\n",
       "      <td id=\"T_d30a5_row2_col1\" class=\"data row2 col1\" >1.160634</td>\n",
       "      <td id=\"T_d30a5_row2_col2\" class=\"data row2 col2\" >1.160634</td>\n",
       "      <td id=\"T_d30a5_row2_col3\" class=\"data row2 col3\" >1.160634</td>\n",
       "      <td id=\"T_d30a5_row2_col4\" class=\"data row2 col4\" >1.160634</td>\n",
       "      <td id=\"T_d30a5_row2_col5\" class=\"data row2 col5\" >1.160634</td>\n",
       "    </tr>\n",
       "    <tr>\n",
       "      <td id=\"T_d30a5_row3_col0\" class=\"data row3 col0\" >poly opt. 2 deg.</td>\n",
       "      <td id=\"T_d30a5_row3_col1\" class=\"data row3 col1\" >1.425730</td>\n",
       "      <td id=\"T_d30a5_row3_col2\" class=\"data row3 col2\" >1.279574</td>\n",
       "      <td id=\"T_d30a5_row3_col3\" class=\"data row3 col3\" >1.144871</td>\n",
       "      <td id=\"T_d30a5_row3_col4\" class=\"data row3 col4\" >1.511439</td>\n",
       "      <td id=\"T_d30a5_row3_col5\" class=\"data row3 col5\" >4.173929</td>\n",
       "    </tr>\n",
       "    <tr>\n",
       "      <td id=\"T_d30a5_row4_col0\" class=\"data row4 col0\" >root poly opt. 2 deg.</td>\n",
       "      <td id=\"T_d30a5_row4_col1\" class=\"data row4 col1\" >1.086645</td>\n",
       "      <td id=\"T_d30a5_row4_col2\" class=\"data row4 col2\" >1.086645</td>\n",
       "      <td id=\"T_d30a5_row4_col3\" class=\"data row4 col3\" >1.086645</td>\n",
       "      <td id=\"T_d30a5_row4_col4\" class=\"data row4 col4\" >1.086645</td>\n",
       "      <td id=\"T_d30a5_row4_col5\" class=\"data row4 col5\" >1.086645</td>\n",
       "    </tr>\n",
       "    <tr>\n",
       "      <td id=\"T_d30a5_row5_col0\" class=\"data row5 col0\" >nn</td>\n",
       "      <td id=\"T_d30a5_row5_col1\" class=\"data row5 col1\" >1.181151</td>\n",
       "      <td id=\"T_d30a5_row5_col2\" class=\"data row5 col2\" >1.095985</td>\n",
       "      <td id=\"T_d30a5_row5_col3\" class=\"data row5 col3\" >1.089890</td>\n",
       "      <td id=\"T_d30a5_row5_col4\" class=\"data row5 col4\" >1.092212</td>\n",
       "      <td id=\"T_d30a5_row5_col5\" class=\"data row5 col5\" >1.094958</td>\n",
       "    </tr>\n",
       "    <tr>\n",
       "      <td id=\"T_d30a5_row6_col0\" class=\"data row6 col0\" >nn aug.</td>\n",
       "      <td id=\"T_d30a5_row6_col1\" class=\"data row6 col1\" >0.878808</td>\n",
       "      <td id=\"T_d30a5_row6_col2\" class=\"data row6 col2\" >0.892346</td>\n",
       "      <td id=\"T_d30a5_row6_col3\" class=\"data row6 col3\" >0.897829</td>\n",
       "      <td id=\"T_d30a5_row6_col4\" class=\"data row6 col4\" >0.900925</td>\n",
       "      <td id=\"T_d30a5_row6_col5\" class=\"data row6 col5\" >0.902891</td>\n",
       "    </tr>\n",
       "    <tr>\n",
       "      <td id=\"T_d30a5_row7_col0\" class=\"data row7 col0\" >nn el</td>\n",
       "      <td id=\"T_d30a5_row7_col1\" class=\"data row7 col1\" >1.446469</td>\n",
       "      <td id=\"T_d30a5_row7_col2\" class=\"data row7 col2\" >1.446469</td>\n",
       "      <td id=\"T_d30a5_row7_col3\" class=\"data row7 col3\" >1.446469</td>\n",
       "      <td id=\"T_d30a5_row7_col4\" class=\"data row7 col4\" >1.446469</td>\n",
       "      <td id=\"T_d30a5_row7_col5\" class=\"data row7 col5\" >1.446469</td>\n",
       "    </tr>\n",
       "  </tbody>\n",
       "</table>\n"
      ],
      "text/plain": [
       "<pandas.io.formats.style.Styler at 0x7901f3bc1a50>"
      ]
     },
     "execution_count": 11,
     "metadata": {},
     "output_type": "execute_result"
    }
   ],
   "source": [
    "df_exps"
   ]
  }
 ],
 "metadata": {
  "kernelspec": {
   "display_name": "Python 3 (ipykernel)",
   "language": "python",
   "name": "python3"
  },
  "language_info": {
   "codemirror_mode": {
    "name": "ipython",
    "version": 3
   },
   "file_extension": ".py",
   "mimetype": "text/x-python",
   "name": "python",
   "nbconvert_exporter": "python",
   "pygments_lexer": "ipython3",
   "version": "3.11.6"
  },
  "name": "results.ipynb"
 },
 "nbformat": 4,
 "nbformat_minor": 5
}
